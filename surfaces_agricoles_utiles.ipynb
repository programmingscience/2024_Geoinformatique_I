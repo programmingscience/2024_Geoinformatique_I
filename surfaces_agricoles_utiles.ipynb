{
  "nbformat": 4,
  "nbformat_minor": 0,
  "metadata": {
    "colab": {
      "provenance": [],
      "authorship_tag": "ABX9TyMyCm2E5zVho5mQyyKdUlnE",
      "include_colab_link": true
    },
    "kernelspec": {
      "name": "python3",
      "display_name": "Python 3"
    },
    "language_info": {
      "name": "python"
    }
  },
  "cells": [
    {
      "cell_type": "markdown",
      "metadata": {
        "id": "view-in-github",
        "colab_type": "text"
      },
      "source": [
        "<a href=\"https://colab.research.google.com/github/programmingscience/2024_Geoinformatique_I/blob/main/surfaces_agricoles_utiles.ipynb\" target=\"_parent\"><img src=\"https://colab.research.google.com/assets/colab-badge.svg\" alt=\"Open In Colab\"/></a>"
      ]
    },
    {
      "cell_type": "code",
      "execution_count": 3,
      "metadata": {
        "colab": {
          "base_uri": "https://localhost:8080/"
        },
        "id": "xOdCDLpQ1HO4",
        "outputId": "9b0eb19d-7770-49b6-c0b8-957b39e31580"
      },
      "outputs": [
        {
          "output_type": "stream",
          "name": "stdout",
          "text": [
            "Requirement already satisfied: pooch in /usr/local/lib/python3.10/dist-packages (1.8.2)\n",
            "Requirement already satisfied: geopandas in /usr/local/lib/python3.10/dist-packages (1.0.1)\n",
            "Requirement already satisfied: platformdirs>=2.5.0 in /usr/local/lib/python3.10/dist-packages (from pooch) (4.3.6)\n",
            "Requirement already satisfied: packaging>=20.0 in /usr/local/lib/python3.10/dist-packages (from pooch) (24.2)\n",
            "Requirement already satisfied: requests>=2.19.0 in /usr/local/lib/python3.10/dist-packages (from pooch) (2.32.3)\n",
            "Requirement already satisfied: numpy>=1.22 in /usr/local/lib/python3.10/dist-packages (from geopandas) (1.26.4)\n",
            "Requirement already satisfied: pyogrio>=0.7.2 in /usr/local/lib/python3.10/dist-packages (from geopandas) (0.10.0)\n",
            "Requirement already satisfied: pandas>=1.4.0 in /usr/local/lib/python3.10/dist-packages (from geopandas) (2.2.2)\n",
            "Requirement already satisfied: pyproj>=3.3.0 in /usr/local/lib/python3.10/dist-packages (from geopandas) (3.7.0)\n",
            "Requirement already satisfied: shapely>=2.0.0 in /usr/local/lib/python3.10/dist-packages (from geopandas) (2.0.6)\n",
            "Requirement already satisfied: python-dateutil>=2.8.2 in /usr/local/lib/python3.10/dist-packages (from pandas>=1.4.0->geopandas) (2.8.2)\n",
            "Requirement already satisfied: pytz>=2020.1 in /usr/local/lib/python3.10/dist-packages (from pandas>=1.4.0->geopandas) (2024.2)\n",
            "Requirement already satisfied: tzdata>=2022.7 in /usr/local/lib/python3.10/dist-packages (from pandas>=1.4.0->geopandas) (2024.2)\n",
            "Requirement already satisfied: certifi in /usr/local/lib/python3.10/dist-packages (from pyogrio>=0.7.2->geopandas) (2024.8.30)\n",
            "Requirement already satisfied: charset-normalizer<4,>=2 in /usr/local/lib/python3.10/dist-packages (from requests>=2.19.0->pooch) (3.4.0)\n",
            "Requirement already satisfied: idna<4,>=2.5 in /usr/local/lib/python3.10/dist-packages (from requests>=2.19.0->pooch) (3.10)\n",
            "Requirement already satisfied: urllib3<3,>=1.21.1 in /usr/local/lib/python3.10/dist-packages (from requests>=2.19.0->pooch) (2.2.3)\n",
            "Requirement already satisfied: six>=1.5 in /usr/local/lib/python3.10/dist-packages (from python-dateutil>=2.8.2->pandas>=1.4.0->geopandas) (1.16.0)\n"
          ]
        }
      ],
      "source": [
        "!pip install pooch geopandas\n",
        "import pooch\n",
        "import geopandas as gpd\n",
        "import pandas as pd\n",
        "import os\n"
      ]
    },
    {
      "cell_type": "code",
      "source": [
        "data_files = pooch.retrieve(\n",
        "    url = 'https://files.swisscarto.ch/geoinf1/vd_dgav_surfaces_agricoles.zip',\n",
        "    known_hash = None,\n",
        "    processor = pooch.Unzip()\n",
        ")"
      ],
      "metadata": {
        "colab": {
          "base_uri": "https://localhost:8080/"
        },
        "id": "_KYbpCVs2LRk",
        "outputId": "52a57c67-0455-4772-9797-983a1296ad4c"
      },
      "execution_count": 4,
      "outputs": [
        {
          "output_type": "stream",
          "name": "stderr",
          "text": [
            "Downloading data from 'https://files.swisscarto.ch/geoinf1/vd_dgav_surfaces_agricoles.zip' to file '/root/.cache/pooch/26d2db3ccf4efc592af4b57a09f55371-vd_dgav_surfaces_agricoles.zip'.\n",
            "SHA256 hash of downloaded file: 0d866067c647f235d92499e669b8dfb4dfea18da3cfd99434a7e6176a9fba81f\n",
            "Use this value as the 'known_hash' argument of 'pooch.retrieve' to ensure that the file hasn't changed if it is downloaded again in the future.\n",
            "Unzipping contents of '/root/.cache/pooch/26d2db3ccf4efc592af4b57a09f55371-vd_dgav_surfaces_agricoles.zip' to '/root/.cache/pooch/26d2db3ccf4efc592af4b57a09f55371-vd_dgav_surfaces_agricoles.zip.unzip'\n"
          ]
        }
      ]
    },
    {
      "cell_type": "code",
      "source": [
        "surfaces_shp_path= [df for df in data_files if (df.endswith('.gpkg') and 'agr_dgav_sau')]\n",
        "[0]\n",
        "surfaces_shp_path\n"
      ],
      "metadata": {
        "colab": {
          "base_uri": "https://localhost:8080/"
        },
        "id": "joU3AYDg2vtn",
        "outputId": "fe25213b-08e8-4bfe-f633-d65d5938b968"
      },
      "execution_count": 18,
      "outputs": [
        {
          "output_type": "execute_result",
          "data": {
            "text/plain": [
              "['/root/.cache/pooch/26d2db3ccf4efc592af4b57a09f55371-vd_dgav_surfaces_agricoles.zip.unzip/vd_dgav_surfaces_agricoles.gpkg']"
            ]
          },
          "metadata": {},
          "execution_count": 18
        }
      ]
    },
    {
      "cell_type": "code",
      "source": [
        "print (data_files)"
      ],
      "metadata": {
        "colab": {
          "base_uri": "https://localhost:8080/"
        },
        "id": "0McozRtxULeE",
        "outputId": "287a80e7-2f00-4575-e14b-3c9b4f371368"
      },
      "execution_count": 10,
      "outputs": [
        {
          "output_type": "stream",
          "name": "stdout",
          "text": [
            "['/root/.cache/pooch/26d2db3ccf4efc592af4b57a09f55371-vd_dgav_surfaces_agricoles.zip.unzip/vd_dgav_sau_utilisation_2023.csv', '/root/.cache/pooch/26d2db3ccf4efc592af4b57a09f55371-vd_dgav_surfaces_agricoles.zip.unzip/vd_dgav_surfaces_agricoles.gpkg']\n"
          ]
        }
      ]
    }
  ]
}